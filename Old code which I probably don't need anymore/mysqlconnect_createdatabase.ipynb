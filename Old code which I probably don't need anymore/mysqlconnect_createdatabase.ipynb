{
 "cells": [
  {
   "cell_type": "code",
   "execution_count": 1,
   "metadata": {},
   "outputs": [
    {
     "name": "stdout",
     "output_type": "stream",
     "text": [
      "Database 'dog' created successfully\n",
      "MySQL connection is closed\n"
     ]
    }
   ],
   "source": [
    "import mysql.connector\n",
    "from mysql.connector import Error\n",
    "import config\n",
    "try:\n",
    "    # Establish a connection to the MySQL server\n",
    "    connection = mysql.connector.connect(\n",
    "        host=\"localhost\",\n",
    "        user=config.user,\n",
    "        password=config.password\n",
    "    )\n",
    "    # Check if the connection is established\n",
    "    if connection.is_connected():\n",
    "        cursor = connection.cursor()  # Create a cursor object to interact with the database\n",
    "        cursor.execute(\"CREATE DATABASE dog\")  # Execute a SQL query to create a new database named 'mydatabase'\n",
    "        print(\"Database 'dog' created successfully\")\n",
    "    \n",
    "except Error as e:\n",
    "    print(f\"Error: '{e}'\")  # Print any errors that occur during the connection or execution\n",
    "finally:\n",
    "    if connection.is_connected():\n",
    "        cursor.close()  # Close the cursor\n",
    "        connection.close()  # Close the connection to the MySQL server\n",
    "        print(\"MySQL connection is closed\")\n"
   ]
  }
 ],
 "metadata": {
  "kernelspec": {
   "display_name": "Python 3",
   "language": "python",
   "name": "python3"
  },
  "language_info": {
   "codemirror_mode": {
    "name": "ipython",
    "version": 3
   },
   "file_extension": ".py",
   "mimetype": "text/x-python",
   "name": "python",
   "nbconvert_exporter": "python",
   "pygments_lexer": "ipython3",
   "version": "3.11.9"
  }
 },
 "nbformat": 4,
 "nbformat_minor": 2
}
